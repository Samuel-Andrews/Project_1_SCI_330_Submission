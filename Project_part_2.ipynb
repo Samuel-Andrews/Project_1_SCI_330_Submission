{
 "cells": [
  {
   "source": [
    "Project 1 part 2 Samuel Andrews\n"
   ],
   "cell_type": "markdown",
   "metadata": {}
  },
  {
   "source": [
    "Reading in packages"
   ],
   "cell_type": "markdown",
   "metadata": {}
  },
  {
   "cell_type": "code",
   "execution_count": 57,
   "metadata": {},
   "outputs": [],
   "source": [
    "import re"
   ]
  },
  {
   "source": [
    "Following the plan laid out in triage, the first step will be to read in the file completely and turn it into a list\n",
    "seperated by lines"
   ],
   "cell_type": "markdown",
   "metadata": {}
  },
  {
   "cell_type": "code",
   "execution_count": 58,
   "metadata": {},
   "outputs": [
    {
     "output_type": "execute_result",
     "data": {
      "text/plain": [
       "'                                                                                                                \\n DOTC                                                                                 RUN DATE : 06/14/17 21:56 \\n                                                                                             RPT DATE :06/14/17 \\n                                    TTS0126:SELL SHORT TRADES & SHORT EXEMPT                                    \\n Symbol   Side    Cxl      Qty    Price       Bid        Ask        T-DatS-DatTradeID      TradeTiSS      Exbkr \\n                                                                                                                \\n TradeCommType  SourceCommission   Account   OrderID      GTL               Trailer Info               Clr      \\n CERS     SS      NEW        2,756   2.400000    2.340000   2.45000006/1406/191706149900003 09:30:CustSS        \\n                                                                    /17  /17  256945       00                   \\n 0704 PerUnit   TERM  0.010000     AABBC     1706149900003#STA=GSCO                                             \\n CERS     SS      NEW          100   2.36000018422.360000   2.37000006/1406/191706149900003 10:20:ContraSSFREX  \\n                                                                    /17  /17  866087       04                   \\n 0704 PerUnit   TERM  0.010000     AABBC     1706149900003#STA=CERS                                             \\n                                             854300                                                             \\n CERS     SS      NEW          200   2.350000    2.360000   2.37000006/1406/191706149900003 10:20:ContraSSFREX  \\n                                                                    /17  /17  866096       04                   \\n 0704 PerUnit   TERM  0.010000     AABBC     1706149900003#STA=CERS                                             \\n                                             854300                                                             \\n CERS     SS      NEW          100   2.350000    2.350000   2.36000006/1406/191706149900003 10:20:ContraSSFREX  \\n                                                                    /17  /17  869780       23                   \\n 0704 PerUnit   TERM  0.010000     AABBC     1706149900003#STA=CERS                                             \\n                                             854300                                                             \\n CERS     SS      NEW          100   2.350000    2.350000   2.36000006/1406/191706149900003 10:22:ContraSSFREX  \\n                                                                    /17  /17  892888       29                   \\n 0704 PerUnit   TERM  0.010000     AABBC     1706149900003#STA=CERS                                             \\n                                             854300                                                             \\n CERS     SS      NEW          100   2.360000    2.350000   2.36000006/1406/191706149900003 10:24:ContraSSFREX  \\n                                                                    /17  /17  909119       01                   \\n 0704 PerUnit   TERM  0.010000     AABBC     1706149900003#STA=CERS                                             \\n CERS     SS      NEW          100   2.36000085432.350000   2.36000006/1406/191706149900003 10:24:ContraSSFREX  \\n                                                                    /17  /17  909128       01                   \\n 0704 PerUnit   TERM  0.010000     AABBC     1706149900003#STA=CERS                                             \\n                                             854300                                                             \\n CERS     SS      NEW          100   2.360000    2.350000   2.36000006/1406/191706149900003 10:24:ContraSSFREX  \\n                                                                    /17  /17  909140       01                   \\n 0704 PerUnit   TERM  0.010000     AABBC     1706149900003#STA=CERS                                             \\n                                             854300                                                             \\n CERS     SS      NEW          100   2.360000    2.350000   2.36000006/1406/191706149900003 10:24:ContraSSFREX  \\n                                                                    /17  /17  909143       01                   \\n 0704 PerUnit   TERM  0.010000     AABBC     1706149900003#STA=CERS                                             \\n                                             854300                                                             \\n CERS     SS      NEW          100   2.360000    2.350000   2.36000006/1406/191706149900003 10:24:ContraSSFREX  \\n                                                                    /17  /17  909148       01                   \\n 0704 PerUnit   TERM  0.010000     AABBC     1706149900003#STA=CERS                                             \\n                            '"
      ]
     },
     "metadata": {},
     "execution_count": 58
    }
   ],
   "source": [
    "#read in the file\n",
    "\n",
    "with open('Sell Short Trades.txt') as f:\n",
    "    content = f.read()\n",
    "content[:5000]"
   ]
  },
  {
   "cell_type": "code",
   "execution_count": 59,
   "metadata": {},
   "outputs": [
    {
     "output_type": "execute_result",
     "data": {
      "text/plain": [
       "['                                                                                                                ',\n",
       " ' DOTC                                                                                 RUN DATE : 06/14/17 21:56 ',\n",
       " '                                                                                             RPT DATE :06/14/17 ',\n",
       " '                                    TTS0126:SELL SHORT TRADES & SHORT EXEMPT                                    ',\n",
       " ' Symbol   Side    Cxl      Qty    Price       Bid        Ask        T-DatS-DatTradeID      TradeTiSS      Exbkr ',\n",
       " '                                                                                                                ',\n",
       " ' TradeCommType  SourceCommission   Account   OrderID      GTL               Trailer Info               Clr      ',\n",
       " ' CERS     SS      NEW        2,756   2.400000    2.340000   2.45000006/1406/191706149900003 09:30:CustSS        ',\n",
       " '                                                                    /17  /17  256945       00                   ',\n",
       " ' 0704 PerUnit   TERM  0.010000     AABBC     1706149900003#STA=GSCO                                             ',\n",
       " ' CERS     SS      NEW          100   2.36000018422.360000   2.37000006/1406/191706149900003 10:20:ContraSSFREX  ',\n",
       " '                                                                    /17  /17  866087       04                   ',\n",
       " ' 0704 PerUnit   TERM  0.010000     AABBC     1706149900003#STA=CERS                                             ',\n",
       " '                                             854300                                                             ',\n",
       " ' CERS     SS      NEW          200   2.350000    2.360000   2.37000006/1406/191706149900003 10:20:ContraSSFREX  ',\n",
       " '                                                                    /17  /17  866096       04                   ',\n",
       " ' 0704 PerUnit   TERM  0.010000     AABBC     1706149900003#STA=CERS                                             ',\n",
       " '                                             854300                                                             ',\n",
       " ' CERS     SS      NEW          100   2.350000    2.350000   2.36000006/1406/191706149900003 10:20:ContraSSFREX  ',\n",
       " '                                                                    /17  /17  869780       23                   ']"
      ]
     },
     "metadata": {},
     "execution_count": 59
    }
   ],
   "source": [
    "#make it a list with each item being one line\n",
    "\n",
    "grouped_lines = content.split('\\n')\n",
    "grouped_lines[:20]"
   ]
  },
  {
   "source": [
    "Next, we will remove the starting and ending lines that do not provide meaningful content, checking first to ensure we do not remove any actual data"
   ],
   "cell_type": "markdown",
   "metadata": {}
  },
  {
   "cell_type": "code",
   "execution_count": 60,
   "metadata": {},
   "outputs": [
    {
     "output_type": "execute_result",
     "data": {
      "text/plain": [
       "['                                                                                                                ',\n",
       " ' DOTC                                                                                 RUN DATE : 06/14/17 21:56 ',\n",
       " '                                                                                             RPT DATE :06/14/17 ',\n",
       " '                                    TTS0126:SELL SHORT TRADES & SHORT EXEMPT                                    ',\n",
       " ' Symbol   Side    Cxl      Qty    Price       Bid        Ask        T-DatS-DatTradeID      TradeTiSS      Exbkr ']"
      ]
     },
     "metadata": {},
     "execution_count": 60
    }
   ],
   "source": [
    "#look at just the top\n",
    "\n",
    "grouped_lines[0:5]"
   ]
  },
  {
   "cell_type": "code",
   "execution_count": 61,
   "metadata": {},
   "outputs": [
    {
     "output_type": "execute_result",
     "data": {
      "text/plain": [
       "[' Symbol   Side    Cxl      Qty    Price       Bid        Ask        T-DatS-DatTradeID      TradeTiSS      Exbkr ',\n",
       " '                                                                                                                ',\n",
       " ' TradeCommType  SourceCommission   Account   OrderID      GTL               Trailer Info               Clr      ',\n",
       " ' CERS     SS      NEW        2,756   2.400000    2.340000   2.45000006/1406/191706149900003 09:30:CustSS        ',\n",
       " '                                                                    /17  /17  256945       00                   ',\n",
       " ' 0704 PerUnit   TERM  0.010000     AABBC     1706149900003#STA=GSCO                                             ']"
      ]
     },
     "metadata": {},
     "execution_count": 61
    }
   ],
   "source": [
    "grouped_lines[4:10]"
   ]
  },
  {
   "cell_type": "code",
   "execution_count": 62,
   "metadata": {},
   "outputs": [
    {
     "output_type": "execute_result",
     "data": {
      "text/plain": [
       "[' Symbol   Side    Cxl      Qty    Price       Bid        Ask        T-DatS-DatTradeID      TradeTiSS      Exbkr ',\n",
       " '                                                                                                                ',\n",
       " ' TradeCommType  SourceCommission   Account   OrderID      GTL               Trailer Info               Clr      ',\n",
       " ' CERS     SS      NEW        2,756   2.400000    2.340000   2.45000006/1406/191706149900003 09:30:CustSS        ',\n",
       " '                                                                    /17  /17  256945       00                   ',\n",
       " ' 0704 PerUnit   TERM  0.010000     AABBC     1706149900003#STA=GSCO                                             ',\n",
       " ' CERS     SS      NEW          100   2.36000018422.360000   2.37000006/1406/191706149900003 10:20:ContraSSFREX  ',\n",
       " '                                                                    /17  /17  866087       04                   ',\n",
       " ' 0704 PerUnit   TERM  0.010000     AABBC     1706149900003#STA=CERS                                             ',\n",
       " '                                             854300                                                             ',\n",
       " ' CERS     SS      NEW          200   2.350000    2.360000   2.37000006/1406/191706149900003 10:20:ContraSSFREX  ',\n",
       " '                                                                    /17  /17  866096       04                   ',\n",
       " ' 0704 PerUnit   TERM  0.010000     AABBC     1706149900003#STA=CERS                                             ',\n",
       " '                                             854300                                                             ',\n",
       " ' CERS     SS      NEW          100   2.350000    2.350000   2.36000006/1406/191706149900003 10:20:ContraSSFREX  ',\n",
       " '                                                                    /17  /17  869780       23                   ',\n",
       " ' 0704 PerUnit   TERM  0.010000     AABBC     1706149900003#STA=CERS                                             ',\n",
       " '                                             854300                                                             ',\n",
       " ' CERS     SS      NEW          100   2.350000    2.350000   2.36000006/1406/191706149900003 10:22:ContraSSFREX  ',\n",
       " '                                                                    /17  /17  892888       29                   ']"
      ]
     },
     "metadata": {},
     "execution_count": 62
    }
   ],
   "source": [
    "#remove those lines\n",
    "\n",
    "grouped_lines = grouped_lines[4:]\n",
    "\n",
    "grouped_lines[0:20]"
   ]
  },
  {
   "cell_type": "code",
   "execution_count": 63,
   "metadata": {},
   "outputs": [
    {
     "output_type": "stream",
     "name": "stdout",
     "text": [
      "                                             854300                                                             \n                                               TOTAL TRADES: 913                                                \n"
     ]
    }
   ],
   "source": [
    "#During the triage phase, we determined everything after line 4,115 can be removed outright\n",
    "#obiviously we will need to adjust for indexing and the removed top\n",
    "\n",
    "\n",
    "print(grouped_lines[4110]) #last line we care about\n",
    "print(grouped_lines[4111]) #garbage starts\n"
   ]
  },
  {
   "cell_type": "code",
   "execution_count": 64,
   "metadata": {},
   "outputs": [
    {
     "output_type": "execute_result",
     "data": {
      "text/plain": [
       "'                                             854300                                                             '"
      ]
     },
     "metadata": {},
     "execution_count": 64
    }
   ],
   "source": [
    "#removing the ending lines\n",
    "\n",
    "grouped_lines = grouped_lines[0:4111]\n",
    "\n",
    "grouped_lines[-1] #check the last line\n"
   ]
  },
  {
   "cell_type": "code",
   "execution_count": 65,
   "metadata": {},
   "outputs": [],
   "source": [
    "#now that step 1 is complete, save to a different name for step 2\n",
    "\n",
    "grouped_lines2 = grouped_lines"
   ]
  },
  {
   "source": [
    "As described, for our second step we will try to further prune useless lines from the list. Starting out, there are numerous blank lines thrown in at various points, and we want to deal with all of them with one step. By making use of the strip function across the entire list, we can quickly make lines devoid of content length zero, which will allow a second pass through of the list to quickly identify the offending items and purge them thusly. "
   ],
   "cell_type": "markdown",
   "metadata": {}
  },
  {
   "cell_type": "code",
   "execution_count": 66,
   "metadata": {},
   "outputs": [
    {
     "output_type": "execute_result",
     "data": {
      "text/plain": [
       "['Symbol   Side    Cxl      Qty    Price       Bid        Ask        T-DatS-DatTradeID      TradeTiSS      Exbkr',\n",
       " '',\n",
       " 'TradeCommType  SourceCommission   Account   OrderID      GTL               Trailer Info               Clr',\n",
       " 'CERS     SS      NEW        2,756   2.400000    2.340000   2.45000006/1406/191706149900003 09:30:CustSS',\n",
       " '/17  /17  256945       00',\n",
       " '0704 PerUnit   TERM  0.010000     AABBC     1706149900003#STA=GSCO',\n",
       " 'CERS     SS      NEW          100   2.36000018422.360000   2.37000006/1406/191706149900003 10:20:ContraSSFREX',\n",
       " '/17  /17  866087       04',\n",
       " '0704 PerUnit   TERM  0.010000     AABBC     1706149900003#STA=CERS',\n",
       " '854300']"
      ]
     },
     "metadata": {},
     "execution_count": 66
    }
   ],
   "source": [
    "#make use of a list comprehension to quickly iterate strip over all of the lines\n",
    "\n",
    "\n",
    "grouped_lines2 = [x.strip() for x in grouped_lines2]\n",
    "\n",
    "grouped_lines2[0:10] #notice line 2 in this example"
   ]
  },
  {
   "cell_type": "code",
   "execution_count": 67,
   "metadata": {},
   "outputs": [
    {
     "output_type": "execute_result",
     "data": {
      "text/plain": [
       "0"
      ]
     },
     "metadata": {},
     "execution_count": 67
    }
   ],
   "source": [
    "#as shown, lines like line 2 (index 1) are now length 0\n",
    "\n",
    "len(grouped_lines2[1])"
   ]
  },
  {
   "cell_type": "code",
   "execution_count": 68,
   "metadata": {},
   "outputs": [
    {
     "output_type": "stream",
     "name": "stdout",
     "text": [
      "True\nFalse\n"
     ]
    }
   ],
   "source": [
    "#building a lambda function to test the implementation\n",
    "\n",
    "blank_marker = lambda line: len(line) == 0\n",
    "\n",
    "#seen working here\n",
    "print(blank_marker(grouped_lines2[1]))\n",
    "\n",
    "print(blank_marker(grouped_lines2[0]))\n"
   ]
  },
  {
   "cell_type": "code",
   "execution_count": 69,
   "metadata": {},
   "outputs": [
    {
     "output_type": "execute_result",
     "data": {
      "text/plain": [
       "['Symbol   Side    Cxl      Qty    Price       Bid        Ask        T-DatS-DatTradeID      TradeTiSS      Exbkr',\n",
       " 'TradeCommType  SourceCommission   Account   OrderID      GTL               Trailer Info               Clr',\n",
       " 'CERS     SS      NEW        2,756   2.400000    2.340000   2.45000006/1406/191706149900003 09:30:CustSS',\n",
       " '/17  /17  256945       00',\n",
       " '0704 PerUnit   TERM  0.010000     AABBC     1706149900003#STA=GSCO',\n",
       " 'CERS     SS      NEW          100   2.36000018422.360000   2.37000006/1406/191706149900003 10:20:ContraSSFREX',\n",
       " '/17  /17  866087       04',\n",
       " '0704 PerUnit   TERM  0.010000     AABBC     1706149900003#STA=CERS',\n",
       " '854300',\n",
       " 'CERS     SS      NEW          200   2.350000    2.360000   2.37000006/1406/191706149900003 10:20:ContraSSFREX']"
      ]
     },
     "metadata": {},
     "execution_count": 69
    }
   ],
   "source": [
    "#using a list comprehension to remove based on that comprehension (actually making a new list to be techincal)\n",
    "\n",
    "\n",
    "test = [line for line in grouped_lines2 if len(line) != 0] #using a new variable to make sure it works properly\n",
    "\n",
    "test[0:10] #notice line two's removal\n"
   ]
  },
  {
   "cell_type": "code",
   "execution_count": 70,
   "metadata": {},
   "outputs": [
    {
     "output_type": "execute_result",
     "data": {
      "text/plain": [
       "['Symbol   Side    Cxl      Qty    Price       Bid        Ask        T-DatS-DatTradeID      TradeTiSS      Exbkr',\n",
       " 'TradeCommType  SourceCommission   Account   OrderID      GTL               Trailer Info               Clr',\n",
       " 'CERS     SS      NEW        2,756   2.400000    2.340000   2.45000006/1406/191706149900003 09:30:CustSS',\n",
       " '/17  /17  256945       00',\n",
       " '0704 PerUnit   TERM  0.010000     AABBC     1706149900003#STA=GSCO',\n",
       " 'CERS     SS      NEW          100   2.36000018422.360000   2.37000006/1406/191706149900003 10:20:ContraSSFREX',\n",
       " '/17  /17  866087       04',\n",
       " '0704 PerUnit   TERM  0.010000     AABBC     1706149900003#STA=CERS',\n",
       " '854300',\n",
       " 'CERS     SS      NEW          200   2.350000    2.360000   2.37000006/1406/191706149900003 10:20:ContraSSFREX',\n",
       " '/17  /17  866096       04',\n",
       " '0704 PerUnit   TERM  0.010000     AABBC     1706149900003#STA=CERS',\n",
       " '854300',\n",
       " 'CERS     SS      NEW          100   2.350000    2.350000   2.36000006/1406/191706149900003 10:20:ContraSSFREX',\n",
       " '/17  /17  869780       23',\n",
       " '0704 PerUnit   TERM  0.010000     AABBC     1706149900003#STA=CERS',\n",
       " '854300',\n",
       " 'CERS     SS      NEW          100   2.350000    2.350000   2.36000006/1406/191706149900003 10:22:ContraSSFREX',\n",
       " '/17  /17  892888       29',\n",
       " '0704 PerUnit   TERM  0.010000     AABBC     1706149900003#STA=CERS',\n",
       " '854300',\n",
       " 'CERS     SS      NEW          100   2.360000    2.350000   2.36000006/1406/191706149900003 10:24:ContraSSFREX',\n",
       " '/17  /17  909119       01',\n",
       " '0704 PerUnit   TERM  0.010000     AABBC     1706149900003#STA=CERS',\n",
       " 'CERS     SS      NEW          100   2.36000085432.350000   2.36000006/1406/191706149900003 10:24:ContraSSFREX',\n",
       " '/17  /17  909128       01',\n",
       " '0704 PerUnit   TERM  0.010000     AABBC     1706149900003#STA=CERS',\n",
       " '854300',\n",
       " 'CERS     SS      NEW          100   2.360000    2.350000   2.36000006/1406/191706149900003 10:24:ContraSSFREX',\n",
       " '/17  /17  909140       01',\n",
       " '0704 PerUnit   TERM  0.010000     AABBC     1706149900003#STA=CERS',\n",
       " '854300',\n",
       " 'CERS     SS      NEW          100   2.360000    2.350000   2.36000006/1406/191706149900003 10:24:ContraSSFREX',\n",
       " '/17  /17  909143       01',\n",
       " '0704 PerUnit   TERM  0.010000     AABBC     1706149900003#STA=CERS',\n",
       " '854300',\n",
       " 'CERS     SS      NEW          100   2.360000    2.350000   2.36000006/1406/191706149900003 10:24:ContraSSFREX',\n",
       " '/17  /17  909148       01',\n",
       " '0704 PerUnit   TERM  0.010000     AABBC     1706149900003#STA=CERS',\n",
       " '854300',\n",
       " 'CERS     SS      NEW          100   2.360000    2.350000   2.36000006/1406/191706149900003 10:24:ContraSSFREX',\n",
       " '0704 PerUnit   TERM  0.010000     AABBC     1706149900003#STA=CERS /17  /17  909154       02',\n",
       " '854300',\n",
       " '1 of 77',\n",
       " 'Symbol   Side    Cxl      Qty    Price       Bid        Ask        T-DatS-DatTradeID      TradeTiSS      Exbkr',\n",
       " 'TradeCommType  SourceCommission   Account   OrderID      GTL               Trailer Info               Clr',\n",
       " 'CERS     SS      NEW          100   2.360000    2.350000   2.36000006/1406/191706149900003 10:24:ContraSSFREX',\n",
       " '/17  /17  909168       02',\n",
       " '0704 PerUnit   TERM  0.010000     AABBC     1706149900003#STA=CERS',\n",
       " '854300']"
      ]
     },
     "metadata": {},
     "execution_count": 70
    }
   ],
   "source": [
    "#examine test to ensure it worked as intended, you can see below where we hit the page break that used to have empty lines, now all removed\n",
    "\n",
    "test[0:50]\n",
    "\n"
   ]
  },
  {
   "cell_type": "code",
   "execution_count": 71,
   "metadata": {},
   "outputs": [],
   "source": [
    "#now confident, we can overwrite grouplines2\n",
    "\n",
    "grouped_lines2 = test"
   ]
  },
  {
   "source": [
    "With the blank lines removed, we can now deal with the page break blocks. Again, as outlined in the Triage step, the only instances of the word \"of\" within this entire document is on page break lines, which follow the form \"x of 77\" where x is any number. This is easily confirmed with a simple CTRL-F in notepad. therefore, we can use fundamentally the same solution as the previous step to remove these lines as well with us instead looking for lines containing \"of\"."
   ],
   "cell_type": "markdown",
   "metadata": {}
  },
  {
   "cell_type": "code",
   "execution_count": 72,
   "metadata": {},
   "outputs": [
    {
     "output_type": "execute_result",
     "data": {
      "text/plain": [
       "'1 of 77'"
      ]
     },
     "metadata": {},
     "execution_count": 72
    }
   ],
   "source": [
    "#sample offending line\n",
    "\n",
    "grouped_lines2[43]"
   ]
  },
  {
   "cell_type": "code",
   "execution_count": 73,
   "metadata": {},
   "outputs": [
    {
     "output_type": "execute_result",
     "data": {
      "text/plain": [
       "['CERS     SS      NEW          100   2.360000    2.350000   2.36000006/1406/191706149900003 10:24:ContraSSFREX',\n",
       " '0704 PerUnit   TERM  0.010000     AABBC     1706149900003#STA=CERS /17  /17  909154       02',\n",
       " '854300',\n",
       " '1 of 77',\n",
       " 'Symbol   Side    Cxl      Qty    Price       Bid        Ask        T-DatS-DatTradeID      TradeTiSS      Exbkr',\n",
       " 'TradeCommType  SourceCommission   Account   OrderID      GTL               Trailer Info               Clr',\n",
       " 'CERS     SS      NEW          100   2.360000    2.350000   2.36000006/1406/191706149900003 10:24:ContraSSFREX',\n",
       " '/17  /17  909168       02',\n",
       " '0704 PerUnit   TERM  0.010000     AABBC     1706149900003#STA=CERS',\n",
       " '854300']"
      ]
     },
     "metadata": {},
     "execution_count": 73
    }
   ],
   "source": [
    "#viewed in context\n",
    "grouped_lines2[40:50]"
   ]
  },
  {
   "cell_type": "code",
   "execution_count": 74,
   "metadata": {},
   "outputs": [
    {
     "output_type": "stream",
     "name": "stdout",
     "text": [
      "True\nFalse\n"
     ]
    }
   ],
   "source": [
    "\n",
    "#building a lambda function to test the implementation\n",
    "\n",
    "of_course = lambda line: \"of\" in line\n",
    "\n",
    "#seen working here\n",
    "print(of_course(grouped_lines2[43]))\n",
    "\n",
    "print(of_course(grouped_lines2[44]))"
   ]
  },
  {
   "cell_type": "code",
   "execution_count": 75,
   "metadata": {},
   "outputs": [
    {
     "output_type": "execute_result",
     "data": {
      "text/plain": [
       "['CERS     SS      NEW          100   2.360000    2.350000   2.36000006/1406/191706149900003 10:24:ContraSSFREX',\n",
       " '0704 PerUnit   TERM  0.010000     AABBC     1706149900003#STA=CERS /17  /17  909154       02',\n",
       " '854300',\n",
       " 'Symbol   Side    Cxl      Qty    Price       Bid        Ask        T-DatS-DatTradeID      TradeTiSS      Exbkr',\n",
       " 'TradeCommType  SourceCommission   Account   OrderID      GTL               Trailer Info               Clr',\n",
       " 'CERS     SS      NEW          100   2.360000    2.350000   2.36000006/1406/191706149900003 10:24:ContraSSFREX',\n",
       " '/17  /17  909168       02',\n",
       " '0704 PerUnit   TERM  0.010000     AABBC     1706149900003#STA=CERS',\n",
       " '854300',\n",
       " 'CERS     SS      NEW          100   2.360000    2.350000   2.36000006/1406/191706149900003 10:24:ContraSSFREX']"
      ]
     },
     "metadata": {},
     "execution_count": 75
    }
   ],
   "source": [
    "test = [line for line in grouped_lines2 if \"of\" not in line] #using a new variable to make sure it works properly\n",
    "\n",
    "test[40:50] #the page number's removal"
   ]
  },
  {
   "cell_type": "code",
   "execution_count": 76,
   "metadata": {},
   "outputs": [],
   "source": [
    "#setting up for the next part\n",
    "\n",
    "grouped_lines2 = test\n",
    "\n",
    "grouped_lines3 = grouped_lines2"
   ]
  },
  {
   "source": [
    "At present, every row currently contained is either data or redudant columns contating column names or additional info. As part of step 3, we will be removing these problem rows. Foruntatley, as described in the triage step, due to our strippping, the computer-generated nature of the document, and the data lines themselves never sharing lines, we can use a similar solution to the previous step, intead searching for the two possible starters that begin these lines (Symbol and TradeCommType)"
   ],
   "cell_type": "markdown",
   "metadata": {}
  },
  {
   "cell_type": "code",
   "execution_count": 77,
   "metadata": {},
   "outputs": [
    {
     "output_type": "execute_result",
     "data": {
      "text/plain": [
       "['Symbol   Side    Cxl      Qty    Price       Bid        Ask        T-DatS-DatTradeID      TradeTiSS      Exbkr',\n",
       " 'TradeCommType  SourceCommission   Account   OrderID      GTL               Trailer Info               Clr',\n",
       " 'CERS     SS      NEW        2,756   2.400000    2.340000   2.45000006/1406/191706149900003 09:30:CustSS',\n",
       " '/17  /17  256945       00',\n",
       " '0704 PerUnit   TERM  0.010000     AABBC     1706149900003#STA=GSCO',\n",
       " 'CERS     SS      NEW          100   2.36000018422.360000   2.37000006/1406/191706149900003 10:20:ContraSSFREX',\n",
       " '/17  /17  866087       04',\n",
       " '0704 PerUnit   TERM  0.010000     AABBC     1706149900003#STA=CERS',\n",
       " '854300',\n",
       " 'CERS     SS      NEW          200   2.350000    2.360000   2.37000006/1406/191706149900003 10:20:ContraSSFREX',\n",
       " '/17  /17  866096       04',\n",
       " '0704 PerUnit   TERM  0.010000     AABBC     1706149900003#STA=CERS',\n",
       " '854300',\n",
       " 'CERS     SS      NEW          100   2.350000    2.350000   2.36000006/1406/191706149900003 10:20:ContraSSFREX',\n",
       " '/17  /17  869780       23',\n",
       " '0704 PerUnit   TERM  0.010000     AABBC     1706149900003#STA=CERS',\n",
       " '854300',\n",
       " 'CERS     SS      NEW          100   2.350000    2.350000   2.36000006/1406/191706149900003 10:22:ContraSSFREX',\n",
       " '/17  /17  892888       29',\n",
       " '0704 PerUnit   TERM  0.010000     AABBC     1706149900003#STA=CERS']"
      ]
     },
     "metadata": {},
     "execution_count": 77
    }
   ],
   "source": [
    "#example lines here (note the first two)\n",
    "\n",
    "grouped_lines3[0:20]"
   ]
  },
  {
   "cell_type": "code",
   "execution_count": 78,
   "metadata": {},
   "outputs": [
    {
     "output_type": "execute_result",
     "data": {
      "text/plain": [
       "['Symbol   Side    Cxl      Qty    Price       Bid        Ask        T-DatS-DatTradeID      TradeTiSS      Exbkr',\n",
       " 'TradeCommType  SourceCommission   Account   OrderID      GTL               Trailer Info               Clr']"
      ]
     },
     "metadata": {},
     "execution_count": 78
    }
   ],
   "source": [
    "#viewed on their own\n",
    "grouped_lines3[0:2]"
   ]
  },
  {
   "cell_type": "code",
   "execution_count": 79,
   "metadata": {},
   "outputs": [
    {
     "output_type": "stream",
     "name": "stdout",
     "text": [
      "True\nFalse\n"
     ]
    }
   ],
   "source": [
    "#building a lambda function to test the implementation\n",
    "\n",
    "Symbol_start = lambda line: line.startswith(\"Symbol\")\n",
    "\n",
    "#seen working here\n",
    "print(Symbol_start(grouped_lines3[0]))\n",
    "\n",
    "print(Symbol_start(grouped_lines3[5]))"
   ]
  },
  {
   "cell_type": "code",
   "execution_count": 80,
   "metadata": {},
   "outputs": [
    {
     "output_type": "stream",
     "name": "stdout",
     "text": [
      "True\nFalse\n"
     ]
    }
   ],
   "source": [
    "#looking at the same thing with TradeCommType\n",
    "\n",
    "TradeCommType = lambda line: line.startswith(\"TradeCommType\")\n",
    "\n",
    "#seen working here\n",
    "print(TradeCommType(grouped_lines3[1]))\n",
    "\n",
    "print(TradeCommType(grouped_lines3[5]))"
   ]
  },
  {
   "cell_type": "code",
   "execution_count": 81,
   "metadata": {},
   "outputs": [
    {
     "output_type": "execute_result",
     "data": {
      "text/plain": [
       "['Symbol   Side    Cxl      Qty    Price       Bid        Ask        T-DatS-DatTradeID      TradeTiSS      Exbkr',\n",
       " 'CERS     SS      NEW        2,756   2.400000    2.340000   2.45000006/1406/191706149900003 09:30:CustSS',\n",
       " '/17  /17  256945       00',\n",
       " '0704 PerUnit   TERM  0.010000     AABBC     1706149900003#STA=GSCO',\n",
       " 'CERS     SS      NEW          100   2.36000018422.360000   2.37000006/1406/191706149900003 10:20:ContraSSFREX',\n",
       " '/17  /17  866087       04',\n",
       " '0704 PerUnit   TERM  0.010000     AABBC     1706149900003#STA=CERS',\n",
       " '854300',\n",
       " 'CERS     SS      NEW          200   2.350000    2.360000   2.37000006/1406/191706149900003 10:20:ContraSSFREX',\n",
       " '/17  /17  866096       04']"
      ]
     },
     "metadata": {},
     "execution_count": 81
    }
   ],
   "source": [
    "#using a new variable to make sure it works properly\n",
    "\n",
    "test = grouped_lines3\n",
    "\n",
    "test = [line for line in grouped_lines3 if line.startswith(\"TradeCommType\") == False]\n",
    "\n",
    "test[0:10] #note the removal of the TradeCommType line\n",
    "\n"
   ]
  },
  {
   "cell_type": "code",
   "execution_count": 82,
   "metadata": {},
   "outputs": [
    {
     "output_type": "execute_result",
     "data": {
      "text/plain": [
       "['CERS     SS      NEW        2,756   2.400000    2.340000   2.45000006/1406/191706149900003 09:30:CustSS',\n",
       " '/17  /17  256945       00',\n",
       " '0704 PerUnit   TERM  0.010000     AABBC     1706149900003#STA=GSCO',\n",
       " 'CERS     SS      NEW          100   2.36000018422.360000   2.37000006/1406/191706149900003 10:20:ContraSSFREX',\n",
       " '/17  /17  866087       04',\n",
       " '0704 PerUnit   TERM  0.010000     AABBC     1706149900003#STA=CERS',\n",
       " '854300',\n",
       " 'CERS     SS      NEW          200   2.350000    2.360000   2.37000006/1406/191706149900003 10:20:ContraSSFREX',\n",
       " '/17  /17  866096       04',\n",
       " '0704 PerUnit   TERM  0.010000     AABBC     1706149900003#STA=CERS']"
      ]
     },
     "metadata": {},
     "execution_count": 82
    }
   ],
   "source": [
    "#testing Symbol as well\n",
    "\n",
    "test = [line for line in test if line.startswith(\"Symbol\") == False]\n",
    "\n",
    "test[0:10] #note the removal of the Symbol line"
   ]
  },
  {
   "cell_type": "code",
   "execution_count": 87,
   "metadata": {},
   "outputs": [],
   "source": [
    "#reassign to grouped_lines3\n",
    "\n",
    "grouped_lines3 = test"
   ]
  },
  {
   "source": [
    "Following the completion of this step, all remaing lines contain only data. However, there is still the problem of data being spread across multiple lines. Folowing the established plan, we will make use of the idea that lines never co-mix and that they always start with a series of 1-4 capital characters followed by at least one space (a corporate ticker) as a way to gauge how many lines one must parse to get a single \"line\" that contains all relevant data."
   ],
   "cell_type": "markdown",
   "metadata": {}
  },
  {
   "cell_type": "code",
   "execution_count": 88,
   "metadata": {},
   "outputs": [],
   "source": [
    "#build a regular expression that matches tickers at the start of a string\n",
    "\n",
    "linestart = re.compile('^[A-Z][A-Z]?[A-Z]?[A-Z]?\\s')\n",
    "\n",
    "#make a new list for this part\n",
    "\n",
    "grouped_lines4 = grouped_lines3\n"
   ]
  },
  {
   "cell_type": "code",
   "execution_count": 84,
   "metadata": {},
   "outputs": [
    {
     "output_type": "stream",
     "name": "stdout",
     "text": [
      "True\nTrue\nTrue\nTrue\n\nFalse\nFalse\nFalse\nFalse\nFalse\nFalse\nFalse\nFalse\nFalse\nFalse\nFalse\nFalse\n"
     ]
    }
   ],
   "source": [
    "#put it through its paces\n",
    "\n",
    "#should match these\n",
    "print(bool(linestart.match(\"CERS \")))\n",
    "print(bool(linestart.match(\"VAS \")))\n",
    "print(bool(linestart.match(\"ZI \")))\n",
    "print(bool(linestart.match(\"P \")))\n",
    "\n",
    "print(\"\")\n",
    "\n",
    "#not these\n",
    "\n",
    "print(bool(linestart.match(\"CERS\")))\n",
    "print(bool(linestart.match(\"VAS\")))\n",
    "print(bool(linestart.match(\"ZI\")))\n",
    "print(bool(linestart.match(\"P\")))\n",
    "print(bool(linestart.match(\"as\")))\n",
    "print(bool(linestart.match(\"2.60000\")))\n",
    "print(bool(linestart.match(\" CERS\")))\n",
    "print(bool(linestart.match(\"P\")))\n",
    "print(bool(linestart.match(\"pA \")))\n",
    "print(bool(linestart.match(\"\\tFRED\")))\n",
    "print(bool(linestart.match(\"ZIASE\")))\n",
    "print(bool(linestart.match(\".\")))"
   ]
  },
  {
   "cell_type": "code",
   "execution_count": 89,
   "metadata": {},
   "outputs": [
    {
     "output_type": "execute_result",
     "data": {
      "text/plain": [
       "['CERS     SS      NEW        2,756   2.400000    2.340000   2.45000006/1406/191706149900003 09:30:CustSS',\n",
       " '/17  /17  256945       00',\n",
       " '0704 PerUnit   TERM  0.010000     AABBC     1706149900003#STA=GSCO',\n",
       " 'CERS     SS      NEW          100   2.36000018422.360000   2.37000006/1406/191706149900003 10:20:ContraSSFREX',\n",
       " '/17  /17  866087       04',\n",
       " '0704 PerUnit   TERM  0.010000     AABBC     1706149900003#STA=CERS',\n",
       " '854300',\n",
       " 'CERS     SS      NEW          200   2.350000    2.360000   2.37000006/1406/191706149900003 10:20:ContraSSFREX',\n",
       " '/17  /17  866096       04',\n",
       " '0704 PerUnit   TERM  0.010000     AABBC     1706149900003#STA=CERS']"
      ]
     },
     "metadata": {},
     "execution_count": 89
    }
   ],
   "source": [
    "#now, test it on actual lines\n",
    "\n",
    "grouped_lines4[0:10]\n"
   ]
  },
  {
   "cell_type": "code",
   "execution_count": 93,
   "metadata": {},
   "outputs": [
    {
     "output_type": "stream",
     "name": "stdout",
     "text": [
      "True\nTrue\n\nFalse\nFalse\n"
     ]
    }
   ],
   "source": [
    "#should match first line and 4th line\n",
    "\n",
    "print(bool(linestart.match(grouped_lines4[0])))\n",
    "print(bool(linestart.match(grouped_lines4[3])))\n",
    "\n",
    "\n",
    "print()\n",
    "\n",
    "#not lines 2 or 3\n",
    "\n",
    "print(bool(linestart.match(grouped_lines4[1])))\n",
    "print(bool(linestart.match(grouped_lines4[2])))"
   ]
  },
  {
   "cell_type": "code",
   "execution_count": 94,
   "metadata": {},
   "outputs": [],
   "source": [
    "#create a generic peel function to grab a layer, and a remaing function to go with it\n",
    "\n",
    "peelG = lambda list : list[0]\n",
    "\n",
    "leftover = lambda list : list[1:]\n",
    "\n"
   ]
  },
  {
   "cell_type": "code",
   "execution_count": 97,
   "metadata": {},
   "outputs": [
    {
     "output_type": "stream",
     "name": "stdout",
     "text": [
      "CERS     SS      NEW        2,756   2.400000    2.340000   2.45000006/1406/191706149900003 09:30:CustSS\n\n['/17  /17  256945       00', '0704 PerUnit   TERM  0.010000     AABBC     1706149900003#STA=GSCO', 'CERS     SS      NEW          100   2.36000018422.360000   2.37000006/1406/191706149900003 10:20:ContraSSFREX', '/17  /17  866087       04', '0704 PerUnit   TERM  0.010000     AABBC     1706149900003#STA=CERS']\n"
     ]
    }
   ],
   "source": [
    "#test it\n",
    "\n",
    "test = grouped_lines4\n",
    "\n",
    "print(peelG(test))\n",
    "\n",
    "print()\n",
    "\n",
    "print(leftover(test)[0:5])"
   ]
  },
  {
   "cell_type": "code",
   "execution_count": 99,
   "metadata": {},
   "outputs": [],
   "source": [
    "#Create a peel function that will pull off a line if it does not match the previous regex, else return flag\n",
    "\n",
    "peelCon = lambda list : list[0] if bool(linestart.match(list[0])) != True else \"Failed\""
   ]
  },
  {
   "cell_type": "code",
   "execution_count": 110,
   "metadata": {},
   "outputs": [
    {
     "output_type": "stream",
     "name": "stdout",
     "text": [
      "Failed\n\n/17  /17  256945       00\n"
     ]
    }
   ],
   "source": [
    "#test it\n",
    "\n",
    "test = grouped_lines4\n",
    "\n",
    "#should fail\n",
    "print(peelCon(test))\n",
    "\n",
    "print()\n",
    "\n",
    "#should peel\n",
    "test = leftover(test)\n",
    "\n",
    "print(peelCon(test))"
   ]
  },
  {
   "cell_type": "code",
   "execution_count": 111,
   "metadata": {},
   "outputs": [
    {
     "output_type": "stream",
     "name": "stdout",
     "text": [
      "CERS     SS      NEW        2,756   2.400000    2.340000   2.45000006/1406/191706149900003 09:30:CustSS /17  /17  256945       00 0704 PerUnit   TERM  0.010000     AABBC     1706149900003#STA=GSCO\n"
     ]
    }
   ],
   "source": [
    "#next, we need to build a basic loop that will peel 1 complete line\n",
    "\n",
    "\n",
    "\n",
    "test = grouped_lines4\n",
    "\n",
    "#set up the first line\n",
    "output = peelG(test)\n",
    "\n",
    "test = leftover(test)\n",
    "\n",
    "#pell the rest\n",
    "while peelCon(test) != \"Failed\":\n",
    "\n",
    "    output = output + \" \" + peelCon(test)\n",
    "    test = leftover(test)\n",
    "\n",
    "\n",
    "print(output)\n"
   ]
  },
  {
   "cell_type": "code",
   "execution_count": 114,
   "metadata": {},
   "outputs": [
    {
     "output_type": "execute_result",
     "data": {
      "text/plain": [
       "['CERS     SS      NEW          100   2.36000018422.360000   2.37000006/1406/191706149900003 10:20:ContraSSFREX',\n",
       " '/17  /17  866087       04',\n",
       " '0704 PerUnit   TERM  0.010000     AABBC     1706149900003#STA=CERS',\n",
       " '854300',\n",
       " 'CERS     SS      NEW          200   2.350000    2.360000   2.37000006/1406/191706149900003 10:20:ContraSSFREX']"
      ]
     },
     "metadata": {},
     "execution_count": 114
    }
   ],
   "source": [
    "#if it worked correctly, the next line will be the start of a new line, as seen here\n",
    "\n",
    "test[0:5]"
   ]
  },
  {
   "cell_type": "code",
   "execution_count": 118,
   "metadata": {},
   "outputs": [
    {
     "output_type": "stream",
     "name": "stdout",
     "text": [
      "CERS     SS      NEW        2,756   2.400000    2.340000   2.45000006/1406/191706149900003 09:30:CustSS /17  /17  256945       00 0704 PerUnit   TERM  0.010000     AABBC     1706149900003#STA=GSCO\nCERS     SS      NEW          100   2.36000018422.360000   2.37000006/1406/191706149900003 10:20:ContraSSFREX /17  /17  866087       04 0704 PerUnit   TERM  0.010000     AABBC     1706149900003#STA=CERS 854300\nCERS     SS      NEW          200   2.350000    2.360000   2.37000006/1406/191706149900003 10:20:ContraSSFREX /17  /17  866096       04 0704 PerUnit   TERM  0.010000     AABBC     1706149900003#STA=CERS 854300\nCERS     SS      NEW          100   2.350000    2.350000   2.36000006/1406/191706149900003 10:20:ContraSSFREX /17  /17  869780       23 0704 PerUnit   TERM  0.010000     AABBC     1706149900003#STA=CERS 854300\nCERS     SS      NEW          100   2.350000    2.350000   2.36000006/1406/191706149900003 10:22:ContraSSFREX /17  /17  892888       29 0704 PerUnit   TERM  0.010000     AABBC     1706149900003#STA=CERS 854300\nCERS     SS      NEW          100   2.360000    2.350000   2.36000006/1406/191706149900003 10:24:ContraSSFREX /17  /17  909119       01 0704 PerUnit   TERM  0.010000     AABBC     1706149900003#STA=CERS\nCERS     SS      NEW          100   2.36000085432.350000   2.36000006/1406/191706149900003 10:24:ContraSSFREX /17  /17  909128       01 0704 PerUnit   TERM  0.010000     AABBC     1706149900003#STA=CERS 854300\nCERS     SS      NEW          100   2.360000    2.350000   2.36000006/1406/191706149900003 10:24:ContraSSFREX /17  /17  909140       01 0704 PerUnit   TERM  0.010000     AABBC     1706149900003#STA=CERS 854300\nCERS     SS      NEW          100   2.360000    2.350000   2.36000006/1406/191706149900003 10:24:ContraSSFREX /17  /17  909143       01 0704 PerUnit   TERM  0.010000     AABBC     1706149900003#STA=CERS 854300\nCERS     SS      NEW          100   2.360000    2.350000   2.36000006/1406/191706149900003 10:24:ContraSSFREX /17  /17  909148       01 0704 PerUnit   TERM  0.010000     AABBC     1706149900003#STA=CERS 854300\nCERS     SS      NEW          100   2.360000    2.350000   2.36000006/1406/191706149900003 10:24:ContraSSFREX 0704 PerUnit   TERM  0.010000     AABBC     1706149900003#STA=CERS /17  /17  909154       02 854300\nCERS     SS      NEW          100   2.360000    2.350000   2.36000006/1406/191706149900003 10:24:ContraSSFREX /17  /17  909168       02 0704 PerUnit   TERM  0.010000     AABBC     1706149900003#STA=CERS 854300\nCERS     SS      NEW          100   2.360000    2.350000   2.36000006/1406/191706149900003 10:24:ContraSSFREX /17  /17  909177       02 0704 PerUnit   TERM  0.010000     AABBC     1706149900003#STA=CERS 854300\nCERS     SS      NEW          100   2.365000    2.350000   2.36000006/1406/191706149900003 10:24:ContraSSFREX\n"
     ]
    }
   ],
   "source": [
    "#next, we need to wrap that in a different loop that kicks it off for every line\n",
    "\n",
    "#test the first 50 lines, keeping in mind the last line printed liely won't be complete\n",
    "test = grouped_lines4[0:50]\n",
    "\n",
    "#while there are lines to pull\n",
    "while test != []:\n",
    "\n",
    "    #pull off starting line\n",
    "    output = peelG(test)\n",
    "    test = leftover(test)\n",
    "\n",
    "    #after that, pull off any remaing lines, assuming there are any\n",
    "    while test != [] and peelCon(test) != \"Failed\" :\n",
    "\n",
    "        output = output + \" \" + peelCon(test)\n",
    "        test = leftover(test)\n",
    "\n",
    "    print(output)\n"
   ]
  },
  {
   "cell_type": "code",
   "execution_count": 121,
   "metadata": {},
   "outputs": [],
   "source": [
    "#now, save outputs  in a list, rather then printing them\n",
    "\n",
    "\n",
    "#test the first 50 lines, keeping in mind the last line printed liely won't be complete\n",
    "test = grouped_lines4[0:50]\n",
    "\n",
    "datalines = []\n",
    "\n",
    "#while there are lines\n",
    "while test != []:\n",
    "\n",
    "    #pull off starting line\n",
    "    output = peelG(test)\n",
    "    test = leftover(test)\n",
    "\n",
    "    #after that, pull off any remaing lines, assuming there are any\n",
    "    while test != [] and peelCon(test) != \"Failed\" :\n",
    "\n",
    "        output = output + \" \" + peelCon(test)\n",
    "        test = leftover(test)\n",
    "\n",
    "    datalines.append(output)"
   ]
  },
  {
   "cell_type": "code",
   "execution_count": 122,
   "metadata": {},
   "outputs": [
    {
     "output_type": "execute_result",
     "data": {
      "text/plain": [
       "['CERS     SS      NEW        2,756   2.400000    2.340000   2.45000006/1406/191706149900003 09:30:CustSS /17  /17  256945       00 0704 PerUnit   TERM  0.010000     AABBC     1706149900003#STA=GSCO',\n",
       " 'CERS     SS      NEW          100   2.36000018422.360000   2.37000006/1406/191706149900003 10:20:ContraSSFREX /17  /17  866087       04 0704 PerUnit   TERM  0.010000     AABBC     1706149900003#STA=CERS 854300',\n",
       " 'CERS     SS      NEW          200   2.350000    2.360000   2.37000006/1406/191706149900003 10:20:ContraSSFREX /17  /17  866096       04 0704 PerUnit   TERM  0.010000     AABBC     1706149900003#STA=CERS 854300',\n",
       " 'CERS     SS      NEW          100   2.350000    2.350000   2.36000006/1406/191706149900003 10:20:ContraSSFREX /17  /17  869780       23 0704 PerUnit   TERM  0.010000     AABBC     1706149900003#STA=CERS 854300',\n",
       " 'CERS     SS      NEW          100   2.350000    2.350000   2.36000006/1406/191706149900003 10:22:ContraSSFREX /17  /17  892888       29 0704 PerUnit   TERM  0.010000     AABBC     1706149900003#STA=CERS 854300',\n",
       " 'CERS     SS      NEW          100   2.360000    2.350000   2.36000006/1406/191706149900003 10:24:ContraSSFREX /17  /17  909119       01 0704 PerUnit   TERM  0.010000     AABBC     1706149900003#STA=CERS',\n",
       " 'CERS     SS      NEW          100   2.36000085432.350000   2.36000006/1406/191706149900003 10:24:ContraSSFREX /17  /17  909128       01 0704 PerUnit   TERM  0.010000     AABBC     1706149900003#STA=CERS 854300',\n",
       " 'CERS     SS      NEW          100   2.360000    2.350000   2.36000006/1406/191706149900003 10:24:ContraSSFREX /17  /17  909140       01 0704 PerUnit   TERM  0.010000     AABBC     1706149900003#STA=CERS 854300',\n",
       " 'CERS     SS      NEW          100   2.360000    2.350000   2.36000006/1406/191706149900003 10:24:ContraSSFREX /17  /17  909143       01 0704 PerUnit   TERM  0.010000     AABBC     1706149900003#STA=CERS 854300',\n",
       " 'CERS     SS      NEW          100   2.360000    2.350000   2.36000006/1406/191706149900003 10:24:ContraSSFREX /17  /17  909148       01 0704 PerUnit   TERM  0.010000     AABBC     1706149900003#STA=CERS 854300']"
      ]
     },
     "metadata": {},
     "execution_count": 122
    }
   ],
   "source": [
    "#check the list\n",
    "\n",
    "datalines[0:10]"
   ]
  },
  {
   "cell_type": "code",
   "execution_count": 125,
   "metadata": {},
   "outputs": [],
   "source": [
    "#now, use the logic to consolidate the entire dataset\n",
    "\n",
    "#test the first 50 lines, keeping in mind the last line printed liely won't be complete\n",
    "test = grouped_lines4\n",
    "\n",
    "datalines = []\n",
    "\n",
    "#while there are lines\n",
    "while test != []:\n",
    "\n",
    "    #pull off starting line\n",
    "    output = peelG(test)\n",
    "    test = leftover(test)\n",
    "\n",
    "    #after that, pull off any remaing lines, assuming there are any\n",
    "    while test != [] and peelCon(test) != \"Failed\" :\n",
    "\n",
    "        output = output + \" \" + peelCon(test)\n",
    "        test = leftover(test)\n",
    "\n",
    "    datalines.append(output)"
   ]
  },
  {
   "cell_type": "code",
   "execution_count": 126,
   "metadata": {},
   "outputs": [
    {
     "output_type": "execute_result",
     "data": {
      "text/plain": [
       "35750085432.350000   2.36000006/1406/191706149900006 15:06:ContraSSDTTX /17  /17  364799       32 0704 PerUnit   TERM  0.010000     AABBC     1706149900003#STA=CERS 854300',\n",
       " 'CERS     SS      NEW          100   2.355000    2.350000   2.36000006/1406/191706149900006 15:07:ContraSSDTTX /17  /17  369938       02 0704 PerUnit   TERM  0.010000     AABBC     1706149900003#STA=CERS 854300',\n",
       " 'CERS     SS      NEW          100   2.355000    2.350000   2.36000006/1406/191706149900006 15:07:ContraSSDTTX /17  /17  372950       22 0704 PerUnit   TERM  0.010000     AABBC     1706149900003#STA=CERS 854300',\n",
       " 'CERS     SS      NEW          100   2.355000    2.350000   2.36000006/1406/191706149900006 15:07:ContraSSDTTX /17  /17  372953       22 0704 PerUnit   TERM  0.010000     AABBC     1706149900003#STA=CERS 854300',\n",
       " 'CERS     SS      NEW          100   2.355000    2.350000   2.36000006/1406/191706149900006 15:07:ContraSSDTTX 0704 PerUnit   TERM  0.010000     AABBC     1706149900003#STA=CERS /17  /17  372959       22 854300',\n",
       " 'CERS     SS      NEW          100   2.355000    2.350000   2.36000006/1406/191706149900006 15:07:ContraSSDTTX /17  /17  372961       22 0704 PerUnit   TERM  0.010000     AABBC     1706149900003#STA=CERS 854300',\n",
       " 'CERS     SS      NEW          100   2.355000    2.350000   2.36000006/1406/191706149900006 15:07:ContraSSDTTX /17  /17  372971       22 0704 PerUnit   TERM  0.010000     AABBC     1706149900003#STA=CERS 854300',\n",
       " 'CERS     SS      NEW          100   2.355000    2.350000   2.36000006/1406/191706149900006 15:07:ContraSSDTTX /17  /17  372981       22 0704 PerUnit   TERM  0.010000     AABBC     1706149900003#STA=CERS 854300',\n",
       " 'CERS     SS      NEW          100   2.355000    2.350000   2.36000006/1406/191706149900006 15:08:ContraSSDTTX /17  /17  385589       51 0704 PerUnit   TERM  0.010000     AABBC     1706149900003#STA=CERS 854300',\n",
       " 'CERS     SS      NEW          400   2.350000    2.350000   2.36000006/1406/191706149900006 15:09:CustSS /17  /17  393560       57 0704 PerUnit   TERM  0.010000     AABBC     1706149900003#STA=CERS 854300',\n",
       " 'CERS     SS      NEW          100   2.350000    2.350000   2.36000006/1406/191706149900006 15:09:CustSS /17  /17  393568       57 0704 PerUnit   TERM  0.010000     AABBC     1706149900003#STA=CERS 854300',\n",
       " 'CERS     SS      NEW          100   2.350000    2.350000   2.36000006/1406/191706149900006 15:09:CustSS /17  /17  393578       57 0704 PerUnit   TERM  0.010000     AABBC     1706149900003#STA=CERS',\n",
       " 'CERS     SS      NEW          100   2.35000085432.350000   2.36000006/1406/191706149900006 15:09:CustSS /17  /17  393603       57 0704 PerUnit   TERM  0.010000     AABBC     1706149900003#STA=CERS 854300',\n",
       " 'CERS     SS      NEW          100   2.350000    2.350000   2.36000006/1406/191706149900006 15:09:CustSS /17  /17  393607       57 0704 PerUnit   TERM  0.010000     AABBC     1706149900003#STA=CERS 854300',\n",
       " 'CERS     SS      NEW          100   2.350000    2.350000   2.36000006/1406/191706149900006 15:09:CustSS /17  /17  393609       57 0704 PerUnit   TERM  0.010000     AABBC     1706149900003#STA=CERS 854300',\n",
       " 'CERS     SS      NEW        5,000   2.350000    2.350000   2.36000006/1406/191706149900006 15:09:CustSS /17  /17  393615       57 0704 PerUnit   TERM  0.010000     AABBC     1706149900003#STA=CERS 854300',\n",
       " 'CERS     SS      NEW          200   2.350000    2.350000   2.36000006/1406/191706149900006 15:09:CustSS 0704 PerUnit   TERM  0.010000     AABBC     1706149900003#STA=CERS /17  /17  393620       57 854300',\n",
       " 'CERS     SS      NEW          100   2.350000    2.350000   2.36000006/1406/191706149900006 15:09:CustSS /17  /17  393625       57 0704 PerUnit   TERM  0.010000     AABBC     1706149900003#STA=CERS 854300',\n",
       " 'CERS     SS      NEW          100   2.350000    2.350000   2.36000006/1406/191706149900006 15:09:CustSS /17  /17  393629       57 0704 PerUnit   TERM  0.010000     AABBC     1706149900003#STA=CERS 854300',\n",
       " 'CERS     SS      NEW          100   2.350000    2.350000   2.36000006/1406/191706149900006 15:09:CustSS /17  /17  393635       57 0704 PerUnit   TERM  0.010000     AABBC     1706149900003#STA=CERS 854300',\n",
       " 'CERS     SS      NEW          300   2.350000    2.350000   2.36000006/1406/191706149900006 15:09:CustSS /17  /17  393638       57 0704 PerUnit   TERM  0.010000     AABBC     1706149900003#STA=CERS 854300',\n",
       " 'CERS     SS      NEW          100   2.350000    2.350000   2.36000006/1406/191706149900006 15:09:CustSS /17  /17  393643       57 0704 PerUnit   TERM  0.010000     AABBC     1706149900003#STA=CERS 854300',\n",
       " 'CERS     SS      NEW          100   2.350000    2.350000   2.36000006/1406/191706149900006 15:09:CustSS /17  /17  393652       57 0704 PerUnit   TERM  0.010000     AABBC     1706149900003#STA=CERS 854300',\n",
       " 'CERS     SS      NEW          100   2.350000    2.350000   2.36000006/1406/191706149900006 15:09:CustSS /17  /17  393666       57 0704 PerUnit   TERM  0.010000     AABBC     1706149900003#STA=CERS',\n",
       " 'CERS     SS      NEW          100   2.35000085432.350000   2.36000006/1406/191706149900006 15:09:CustSS /17  /17  393697       57 0704 PerUnit   TERM  0.010000     AABBC     1706149900003#STA=CERS 854300',\n",
       " 'CERS     SS      NEW          300   2.350000    2.350000   2.36000006/1406/191706149900006 15:09:CustSS /17  /17  393701       57 0704 PerUnit   TERM  0.010000     AABBC     1706149900003#STA=CERS 854300',\n",
       " 'CERS     SS      NEW          300   2.350000    2.350000   2.36000006/1406/191706149900006 15:09:CustSS /17  /17  393705       57 0704 PerUnit   TERM  0.010000     AABBC     1706149900003#STA=CERS 854300',\n",
       " 'CERS     SS      NEW          100   2.350000    2.350000   2.36000006/1406/191706149900006 15:09:CustSS /17  /17  393709       57 0704 PerUnit   TERM  0.010000     AABBC     1706149900003#STA=CERS 854300',\n",
       " 'CERS     SS      NEW          200   2.350000    2.340000   2.35000006/1406/191706149900006 15:16:ContraSSDTTX 0704 PerUnit   TERM  0.010000     AABBC     1706149900003#STA=CERS /17  /17  456299       28 854300',\n",
       " 'CERS     SS      NEW          200   2.350000    2.340000   2.35000006/1406/191706149900006 15:16:ContraSSDTTX /17  /17  456316       28 0704 PerUnit   TERM  0.010000     AABBC     1706149900003#STA=CERS 854300',\n",
       " 'CERS     SS      NEW          300   2.350000    2.340000   2.35000006/1406/191706149900006 15:16:CustSS /17  /17  456329       28 0704 PerUnit   TERM  0.010000     AABBC     1706149900003#STA=CERS 854300',\n",
       " 'CERS     SS      NEW          100   2.350000    2.340000   2.35000006/1406/191706149900006 15:16:CustSS /17  /17  456333       28 0704 PerUnit   TERM  0.010000     AABBC     1706149900003#STA=CERS 854300',\n",
       " 'CERS     SS      NEW          200   2.350000    2.340000   2.35000006/1406/191706149900006 15:16:CustSS /17  /17  456338       28 0704 PerUnit   TERM  0.010000     AABBC     1706149900003#STA=CERS 854300',\n",
       " 'CERS     SS      NEW           66   2.350000    2.340000   2.35000006/1406/191706149900006 15:16:CustSS /17  /17  456342       28 0704 PerUnit   TERM  0.010000     AABBC     1706149900003#STA=CERS 854300',\n",
       " 'CERS     SS      NEW          100   2.350000    2.340000   2.35000006/1406/191706149900006 15:16:ContraSSDTTX /17  /17  456354       28 0704 PerUnit   TERM  0.010000     AABBC     1706149900003#STA=CERS 854300',\n",
       " 'CERS     SS      NEW          190   2.350000    2.340000   2.35000006/1406/191706149900006 15:16:ContraSSDTTX /17  /17  456359       28 0704 PerUnit   TERM  0.010000     AABBC     1706149900003#STA=CERS',\n",
       " 'CERS     SS      NEW          100   2.35000085432.340000   2.35000006/1406/191706149900006 15:16:ContraSSDTTX /17  /17  456361       28 0704 PerUnit   TERM  0.010000     AABBC     1706149900003#STA=CERS 854300',\n",
       " 'CERS     SS      NEW          100   2.350000    2.340000   2.35000006/1406/191706149900006 15:16:ContraSSDTTX /17  /17  456365       28 0704 PerUnit   TERM  0.010000     AABBC     1706149900003#STA=CERS 854300',\n",
       " 'CERS     SS      NEW          100   2.355000    2.340000   2.35000006/1406/191706149900006 15:16:ContraSSDTTX /17  /17  456567       28 0704 PerUnit   TERM  0.010000     AABBC     1706149900003#STA=CERS 854300',\n",
       " 'CERS     SS      NEW          100   2.355000    2.350000   2.36000006/1406/191706149900006 15:16:ContraSSDTTX /17  /17  456606       29 0704 PerUnit   TERM  0.010000     AABBC     1706149900003#STA=CERS 854300',\n",
       " 'CERS     SS      NEW          100   2.350000    2.350000   2.36000006/1406/191706149900006 15:18:CustSS 0704 PerUnit   TERM  0.010000     AABBC     1706149900003#STA=CERS /17  /17  474982       21 854300',\n",
       " 'CERS     SS      NEW          100   2.350000    2.350000   2.36000006/1406/191706149900006 15:18:CustSS /17  /17  474990       21 0704 PerUnit   TERM  0.010000     AABBC     1706149900003#STA=CERS 854300',\n",
       " 'CERS     SS      NEW          300   2.350000    2.350000   2.36000006/1406/191706149900006 15:18:CustSS /17  /17  475007       21 0704 PerUnit   TERM  0.010000     AABBC     1706149900003#STA=CERS 854300',\n",
       " 'CERS     SS      NEW          200   2.350000    2.350000   2.36000006/1406/191706149900006 15:18:CustSS /17  /17  475012       21 0704 PerUnit   TERM  0.010000     AABBC     1706149900003#STA=CERS 854300',\n",
       " 'CERS     SS      NEW          100   2.350000    2.350000   2.36000006/1406/191706149900006 15:18:CustSS /17  /17  475017       21 0704 PerUnit   TERM  0.010000     AABBC     1706149900003#STA=CERS 854300',\n",
       " 'CERS     SS      NEW           62   2.350000    2.350000   2.36000006/1406/191706149900006 15:18:CustSS /17  /17  475024       21 0704 PerUnit   TERM  0.010000     AABBC     1706149900003#STA=CERS 854300',\n",
       " 'CERS     SS      NEW           48   2.350000    2.350000   2.36000006/1406/191706149900006 15:18:CustSS /17  /17  475042       21 0704 PerUnit   TERM  0.010000     AABBC     1706149900003#STA=CERS 854300',\n",
       " 'CERS     SS      NEW          100   2.350000    2.340000   2.35000006/1406/191706149900006 15:47:ContraSSDTTX /17  /17  714601       03 0704 PerUnit   TERM  0.010000     AABBC     1706149900003#STA=CERS',\n",
       " 'CERS     SS      NEW          300   2.35000085432.340000   2.35000006/1406/191706149900006 15:47:ContraSSDTTX /17  /17  718923       45 0704 PerUnit   TERM  0.010000     AABBC     1706149900003#STA=CERS 854300',\n",
       " 'CERS     SS      NEW          100   2.350000    2.340000   2.35000006/1406/191706149900006 15:47:ContraSSDTTX /17  /17  719498       49 0704 PerUnit   TERM  0.010000     AABBC     1706149900003#STA=CERS 854300',\n",
       " 'CERS     SS      NEW          100   2.350000    2.340000   2.35000006/1406/191706149900006 15:48:ContraSSDTTX /17  /17  726604       43 0704 PerUnit   TERM  0.010000     AABBC     1706149900003#STA=CERS 854300',\n",
       " 'CERS     SS      NEW          100   2.350000    2.340000   2.35000006/1406/191706149900006 15:48:ContraSSDTTX /17  /17  727010       46 0704 PerUnit   TERM  0.010000     AABBC     1706149900003#STA=CERS 854300',\n",
       " 'CERS     SS      NEW          100   2.350000    2.340000   2.35000006/1406/191706149900006 15:48:ContraSSDTTX 0704 PerUnit   TERM  0.010000     AABBC     1706149900003#STA=CERS /17  /17  728020       51 854300',\n",
       " 'CERS     SS      NEW          100   2.350000    2.340000   2.35000006/1406/191706149900006 15:49:ContraSSDTTX /17  /17  733527       25 0704 PerUnit   TERM  0.010000     AABBC     1706149900003#STA=CERS 854300',\n",
       " 'CERS     SS      NEW          400   2.350000    2.340000   2.35000006/1406/191706149900006 15:49:ContraSSDTTX /17  /17  738556       59 0704 PerUnit   TERM  0.010000     AABBC     1706149900003#STA=CERS 854300',\n",
       " 'CERS     SS      NEW          100   2.350000    2.340000   2.35000006/1406/191706149900006 15:51:ContraSSDTTX /17  /17  748081       00 0704 PerUnit   TERM  0.010000     AABBC     1706149900003#STA=CERS 854300',\n",
       " 'CERS     SS      NEW          100   2.350000    2.340000   2.35000006/1406/191706149900006 15:51:ContraSSDTTX /17  /17  749859       11 0704 PerUnit   TERM  0.010000     AABBC     1706149900003#STA=CERS 854300',\n",
       " 'CERS     SS      NEW          100   2.350000    2.340000   2.35000006/1406/191706149900006 15:52:ContraSSDTTX /17  /17  764710       52 0704 PerUnit   TERM  0.010000     AABBC     1706149900003#STA=CERS 854300',\n",
       " 'CERS     SS      NEW          100   2.350000    2.340000   2.35000006/1406/191706149900006 15:52:ContraSSDTTX /17  /17  765723       57 0704 PerUnit   TERM  0.010000     AABBC     1706149900003#STA=CERS 854300',\n",
       " 'CERS     SS      NEW          100   2.350000    2.340000   2.35000006/1406/191706149900006 15:53:ContraSSDTTX /17  /17  769452       24 0704 PerUnit   TERM  0.010000     AABBC     1706149900003#STA=CERS',\n",
       " 'CERS     SS      NEW          300   2.35000085432.340000   2.35000006/1406/191706149900006 15:53:ContraSSDTTX /17  /17  774340       54 0704 PerUnit   TERM  0.010000     AABBC     1706149900003#STA=CERS 854300',\n",
       " 'CERS     SS      NEW          200   2.350000    2.340000   2.35000006/1406/191706149900006 15:54:ContraSSDTTX /17  /17  775756       02 0704 PerUnit   TERM  0.010000     AABBC     1706149900003#STA=CERS 854300',\n",
       " 'CERS     SS      NEW          200   2.350000    2.340000   2.35000006/1406/191706149900006 15:54:ContraSSDTTX /17  /17  781899       38 0704 PerUnit   TERM  0.010000     AABBC     1706149900003#STA=CERS 854300',\n",
       " 'CERS     SS      NEW          100   2.350000    2.340000   2.35000006/1406/191706149900006 15:57:ContraSSDTTX /17  /17  808516       28 0704 PerUnit   TERM  0.010000     AABBC     1706149900003#STA=CERS 854300',\n",
       " 'CERS     SS      NEW          100   2.350000    2.340000   2.35000006/1406/191706149900006 15:58:ContraSSDTTX 0704 PerUnit   TERM  0.010000     AABBC     1706149900003#STA=CERS /17  /17  821312       26 854300',\n",
       " 'CERS     SS      NEW          100   2.350000    2.340000   2.35000006/1406/191706149900006 15:59:ContraSSDTTX /17  /17  832260       09 0704 PerUnit   TERM  0.010000     AABBC     1706149900003#STA=CERS 854300',\n",
       " 'CERS     SS      NEW          100   2.350000    2.340000   2.35000006/1406/191706149900006 15:59:ContraSSDTTX /17  /17  832596       11 0704 PerUnit   TERM  0.010000     AABBC     1706149900003#STA=CERS 854300',\n",
       " 'CERS     SS      NEW          100   2.350000    2.340000   2.35000006/1406/191706149900006 15:59:ContraSSDTTX /17  /17  832934       13 0704 PerUnit   TERM  0.010000     AABBC     1706149900003#STA=CERS 854300',\n",
       " 'CERS     SS      NEW          100   2.350000    2.340000   2.35000006/1406/191706149900006 15:59:ContraSSDTTX /17  /17  834823       21 0704 PerUnit   TERM  0.010000     AABBC     1706149900003#STA=CERS 854300',\n",
       " 'CERS     SS      NEW          100   2.350000    2.340000   2.35000006/1406/191706149900006 15:59:ContraSSDTTX /17  /17  835412       25 0704 PerUnit   TERM  0.010000     AABBC     1706149900003#STA=CERS 854300',\n",
       " 'CERS     SS      NEW          300   2.350000    2.340000   2.35000006/1406/191706149900006 15:59:ContraSSDTTX /17  /17  835922       28 0704 PerUnit   TERM  0.010000     AABBC     1706149900003#STA=CERS 854300',\n",
       " 'CERS     SS      NEW          154   2.350000    2.340000   2.35000006/1406/191706149900006 15:59:ContraSSDTTX /17  /17  836079       29 0704 PerUnit   TERM  0.010000     AABBC     1706149900003#STA=CERS',\n",
       " 'CERS     SS      NEW          100   2.35000085432.340000   2.35000006/1406/191706149900006 15:59:ContraSSDTTX /17  /17  836288       30 0704 PerUnit   TERM  0.010000     AABBC     1706149900003#STA=CERS 854300',\n",
       " 'CERS     SS      NEW          100   2.350000    2.340000   2.35000006/1406/191706149900006 15:59:ContraSSDTTX /17  /17  836742       32 0704 PerUnit   TERM  0.010000     AABBC     1706149900003#STA=CERS 854300',\n",
       " 'CERS     SS      NEW          100   2.350000    2.340000   2.35000006/1406/191706149900006 15:59:ContraSSDTTX /17  /17  836745       32 0704 PerUnit   TERM  0.010000     AABBC     1706149900003#STA=CERS 854300',\n",
       " 'CERS     SS      NEW          200   2.350000    2.340000   2.35000006/1406/191706149900006 15:59:ContraSSDTTX /17  /17  836756       32 0704 PerUnit   TERM  0.010000     AABBC     1706149900003#STA=CERS 854300',\n",
       " 'CERS     SS      NEW          792   2.350000    2.340000   2.35000006/1406/191706149900006 15:59:CustSS 0704 PerUnit   TERM  0.010000     AABBC     1706149900003#STA=CERS /17  /17  836764       32 854300',\n",
       " 'CERS     SS      NEW          100   2.350000    2.340000   2.35000006/1406/191706149900006 15:59:ContraSSDTTX /17  /17  836776       32 0704 PerUnit   TERM  0.010000     AABBC     1706149900003#STA=CERS 854300',\n",
       " 'CERS     SS      NEW          100   2.350000    2.340000   2.35000006/1406/191706149900006 15:59:ContraSSDTTX /17  /17  836783       32 0704 PerUnit   TERM  0.010000     AABBC     1706149900003#STA=CERS 854300',\n",
       " 'CERS     SS      NEW          200   2.350000    2.340000   2.35000006/1406/191706149900006 15:59:ContraSSDTTX /17  /17  836794       32 0704 PerUnit   TERM  0.010000     AABBC     1706149900003#STA=CERS 854300',\n",
       " 'CERS     SS      NEW          300   2.350000    2.340000   2.35000006/1406/191706149900006 15:59:ContraSSDTTX /17  /17  836801       32 0704 PerUnit   TERM  0.010000     AABBC     1706149900003#STA=CERS 854300',\n",
       " 'CERS     SS      NEW           46   2.350000    2.340000   2.35000006/1406/191706149900006 15:59:ContraSSDTTX /17  /17  836806       32 0704 PerUnit   TERM  0.010000     AABBC     1706149900003#STA=CERS 854300',\n",
       " 'CERS     SS      NEW          100   2.350000    2.340000   2.35000006/1406/191706149900006 15:59:ContraSSDTTX /17  /17  836811       32 0704 PerUnit   TERM  0.010000     AABBC     1706149900003#STA=CERS 854300',\n",
       " 'CERS     SS      NEW          100   2.350000    2.340000   2.35000006/1406/191706149900006 15:59:ContraSSDTTX /17  /17  836819       32 0704 PerUnit   TERM  0.010000     AABBC     1706149900003#STA=CERS',\n",
       " 'CERS     SS      NEW           90   2.35000085432.340000   2.35000006/1406/191706149900006 15:59:CustSS /17  /17  840258       48 0704 PerUnit   TERM  0.010000     AABBC     1706149900003#STA=CERS 854300',\n",
       " 'CERS     SS      NEW          200   2.350000    2.340000   2.35000006/1406/191706149900006 15:59:CustSS /17  /17  842225       54 0704 PerUnit   TERM  0.010000     AABBC     1706149900003#STA=CERS 854300',\n",
       " 'CERS     SS      NEW          106   2.350000    2.340000   2.35000006/1406/191706149900006 15:59:ContraSSDTTX /17  /17  842257       55 0704 PerUnit   TERM  0.010000     AABBC     1706149900003#STA=CERS 854300',\n",
       " 'CERS     SS      NEW          100   2.350000    2.340000   2.35000006/1406/191706149900006 15:59:CustSS /17  /17  842627       55 0704 PerUnit   TERM  0.010000     AABBC     1706149900003#STA=CERS 854300',\n",
       " 'CERS     SS      NEW          100   2.350000    2.340000   2.35000006/1406/191706149900006 15:59:CustSS 0704 PerUnit   TERM  0.010000     AABBC     1706149900003#STA=CERS /17  /17  842647       55 854300',\n",
       " 'CERS     SS      NEW          200   2.350000    2.340000   2.35000006/1406/191706149900006 15:59:CustSS /17  /17  843011       56 0704 PerUnit   TERM  0.010000     AABBC     1706149900003#STA=CERS 854300',\n",
       " 'CERS     SS      NEW          224   2.350000    2.340000   2.35000006/1406/191706149900006 15:59:CustSS /17  /17  843282       57 0704 PerUnit   TERM  0.010000     AABBC     1706149900003#STA=CERS 854300',\n",
       " 'CERS     SS      NEW          200   2.350000    2.340000   2.35000006/1406/191706149900006 15:59:CustSS /17  /17  843318       57 0704 PerUnit   TERM  0.010000     AABBC     1706149900003#STA=CERS 854300',\n",
       " 'CERS     SS      NEW          100   2.350000    2.340000   2.35000006/1406/191706149900006 15:59:ContraSSDTTX /17  /17  843340       58 0704 PerUnit   TERM  0.010000     AABBC     1706149900003#STA=CERS 854300',\n",
       " 'CERS     SS      NEW          200   2.350000    2.340000   2.35000006/1406/191706149900006 15:59:CustSS /17  /17  843708       58 0704 PerUnit   TERM  0.010000     AABBC     1706149900003#STA=CERS 854300',\n",
       " 'CERS     SS      NEW          786   2.350000    2.340000   2.35000006/1406/191706149900006 15:59:CustSS /17  /17  844088       59 0704 PerUnit   TERM  0.010000     AABBC     1706149900003#STA=CERS 854300']"
      ]
     },
     "metadata": {},
     "execution_count": 126
    }
   ],
   "source": [
    "datalines"
   ]
  },
  {
   "cell_type": "code",
   "execution_count": 128,
   "metadata": {},
   "outputs": [],
   "source": [
    "#write it out to .csv to inspect\n",
    "\n",
    "#make it a string\n",
    "datalines_string = '\\n'.join(datalines)\n",
    "\n",
    "#commented out for safety\n",
    "#with open('project_1_part_2_output','w') as outfile:\n",
    " #   outfile.write(datalines_string)\n"
   ]
  },
  {
   "source": [
    "The original document listed 913 pulls on the end, and after all of this wrangling we are left with 913 singular rows, so no rows were lost. After carefully inspecting the output csv, all rows appear to be pulled properly, though some are inherently dirty."
   ],
   "cell_type": "markdown",
   "metadata": {}
  }
 ],
 "metadata": {
  "kernelspec": {
   "display_name": "Python 3",
   "language": "python",
   "name": "python3"
  },
  "language_info": {
   "codemirror_mode": {
    "name": "ipython",
    "version": 3
   },
   "file_extension": ".py",
   "mimetype": "text/x-python",
   "name": "python",
   "nbconvert_exporter": "python",
   "pygments_lexer": "ipython3",
   "version": "3.7.6-final"
  }
 },
 "nbformat": 4,
 "nbformat_minor": 2
}